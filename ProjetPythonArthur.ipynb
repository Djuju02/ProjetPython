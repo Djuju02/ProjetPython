{
  "cells": [
    {
      "cell_type": "code",
      "execution_count": 8,
      "metadata": {
        "id": "4oEcLTTemLUC"
      },
      "outputs": [],
      "source": [
        "import pandas as pd\n",
        "import matplotlib.pyplot as plt\n",
        "import numpy as np\n",
        "from datetime import datetime\n",
        "from scipy.stats import linregress\n",
        "import statistics\n",
        "import seaborn as sns\n",
        "import plotly.express as px"
      ]
    },
    {
      "cell_type": "code",
      "execution_count": 9,
      "metadata": {
        "colab": {
          "base_uri": "https://localhost:8080/"
        },
        "id": "JymSGMs8mhpz",
        "outputId": "dbbea6fd-4e50-491a-b1e2-141854c4a1df"
      },
      "outputs": [
        {
          "name": "stderr",
          "output_type": "stream",
          "text": [
            "/Users/juliensaleh/opt/anaconda3/lib/python3.9/site-packages/IPython/core/interactiveshell.py:3444: DtypeWarning: Columns (18,23,24,26,28,29,31,33,41) have mixed types.Specify dtype option on import or set low_memory=False.\n",
            "  exec(code_obj, self.user_global_ns, self.user_ns)\n",
            "/Users/juliensaleh/opt/anaconda3/lib/python3.9/site-packages/IPython/core/interactiveshell.py:3444: DtypeWarning: Columns (18,23,24,26,28,31,33,41) have mixed types.Specify dtype option on import or set low_memory=False.\n",
            "  exec(code_obj, self.user_global_ns, self.user_ns)\n"
          ]
        },
        {
          "name": "stdout",
          "output_type": "stream",
          "text": [
            "        Date mutation Nature mutation Valeur fonciere  No voie B/T/Q  \\\n",
            "0          03/01/2022           Vente        55000,00     13.0   NaN   \n",
            "1          03/01/2022           Vente       143000,00      NaN   NaN   \n",
            "2          03/01/2022           Vente       143000,00      NaN   NaN   \n",
            "3          03/01/2022           Vente       143000,00     98.0   NaN   \n",
            "4          04/01/2022           Vente          300,00      NaN   NaN   \n",
            "...               ...             ...             ...      ...   ...   \n",
            "3803880    30/12/2022           Vente      3500000,00     19.0   NaN   \n",
            "3803881    19/12/2022           Vente       525000,00      3.0   NaN   \n",
            "3803882    19/12/2022           Vente       525000,00      3.0   NaN   \n",
            "3803883    30/12/2022           Vente        15500,00     69.0   NaN   \n",
            "3803884    21/11/2022           Vente        30000,00     48.0   NaN   \n",
            "\n",
            "        Type de voie Code voie               Voie  Code postal  \\\n",
            "0                RUE      2280      DE LA LIBERTE       1000.0   \n",
            "1                NaN      B010       CHAMP COCHET       1480.0   \n",
            "2                NaN      B010       CHAMP COCHET       1480.0   \n",
            "3                RTE      0055       DE LA DOMBES       1480.0   \n",
            "4                NaN      B031        AUX PIERRES       1480.0   \n",
            "...              ...       ...                ...          ...   \n",
            "3803880          RUE      4879        JEAN DOLENT      75014.0   \n",
            "3803881          RUE      3842  FREDERIC MAGISSON      75015.0   \n",
            "3803882          RUE      3842  FREDERIC MAGISSON      75015.0   \n",
            "3803883          RUE      0679           BARRAULT      75013.0   \n",
            "3803884          RUE      8358     DE LA ROQUETTE      75011.0   \n",
            "\n",
            "                   Commune  ... Surface Carrez du 5eme lot  Nombre de lots  \\\n",
            "0          BOURG-EN-BRESSE  ...                        NaN               1   \n",
            "1                SAVIGNEUX  ...                        NaN               0   \n",
            "2                SAVIGNEUX  ...                        NaN               0   \n",
            "3                SAVIGNEUX  ...                        NaN               1   \n",
            "4        MESSIMY SUR SAONE  ...                        NaN               0   \n",
            "...                    ...  ...                        ...             ...   \n",
            "3803880           PARIS 14  ...                        NaN               1   \n",
            "3803881           PARIS 15  ...                        NaN               2   \n",
            "3803882           PARIS 15  ...                        NaN               2   \n",
            "3803883           PARIS 13  ...                        NaN               1   \n",
            "3803884           PARIS 11  ...                        NaN               1   \n",
            "\n",
            "         Code type local                                Type local  \\\n",
            "0                    2.0                               Appartement   \n",
            "1                    NaN                                       NaN   \n",
            "2                    NaN                                       NaN   \n",
            "3                    2.0                               Appartement   \n",
            "4                    NaN                                       NaN   \n",
            "...                  ...                                       ...   \n",
            "3803880              4.0  Local industriel. commercial ou assimilé   \n",
            "3803881              3.0                                Dépendance   \n",
            "3803882              2.0                               Appartement   \n",
            "3803883              3.0                                Dépendance   \n",
            "3803884              3.0                                Dépendance   \n",
            "\n",
            "         Identifiant local Surface reelle bati Nombre pieces principales  \\\n",
            "0                      NaN                24.0                       1.0   \n",
            "1                      NaN                 NaN                       NaN   \n",
            "2                      NaN                 NaN                       NaN   \n",
            "3                      NaN               140.0                       3.0   \n",
            "4                      NaN                 NaN                       NaN   \n",
            "...                    ...                 ...                       ...   \n",
            "3803880                NaN               327.0                       0.0   \n",
            "3803881                NaN                 0.0                       0.0   \n",
            "3803882                NaN                40.0                       3.0   \n",
            "3803883                NaN                 0.0                       0.0   \n",
            "3803884                NaN                 0.0                       0.0   \n",
            "\n",
            "        Nature culture Nature culture speciale Surface terrain  \n",
            "0                  NaN                     NaN             NaN  \n",
            "1                    S                     NaN            84.0  \n",
            "2                    S                     NaN            88.0  \n",
            "3                  NaN                     NaN             NaN  \n",
            "4                    T                     NaN           510.0  \n",
            "...                ...                     ...             ...  \n",
            "3803880            NaN                     NaN             NaN  \n",
            "3803881            NaN                     NaN             NaN  \n",
            "3803882            NaN                     NaN             NaN  \n",
            "3803883            NaN                     NaN             NaN  \n",
            "3803884            NaN                     NaN             NaN  \n",
            "\n",
            "[3803885 rows x 35 columns]\n"
          ]
        }
      ],
      "source": [
        "#data = pd.read_excel(\"sample_data//Test.xlsx\")\n",
        "#data = pd.read_csv(\"sample_data//valeursfoncieres-2022.txt\",sep=\"|\")\n",
        "#data = pd.read_excel(\"Test.xlsx\")\n",
        "#data = pd.read_csv(\"/valeursfoncieres-2022.txt\",sep=\"|\")\n",
        "data = pd.read_csv(\"/Users/juliensaleh/projet2023/GitHub/ProjetPython/valeursfoncieres-2022.txt\",sep=\"|\")\n",
        "#data = pd.read_csv(\"/valeursfoncieres-2019.txt\",sep=\"|\")\n",
        "data2 = pd.read_csv(\"/Users/juliensaleh/projet2023/GitHub/ProjetPython/valeursfoncieres-2019.txt\",sep=\"|\")\n",
        "\n",
        "data.drop(['Identifiant de document','Reference document','1 Articles CGI','2 Articles CGI','3 Articles CGI','4 Articles CGI','5 Articles CGI','No disposition'],axis=1, inplace=True)\n",
        "print(data)\n",
        "#print(data2.columns)\n",
        "data2.drop(['Identifiant de document','Reference document','1 Articles CGI','2 Articles CGI','3 Articles CGI','4 Articles CGI','5 Articles CGI','No disposition'],axis=1, inplace=True)\n",
        "#print(data2)\n",
        "\n",
        "# Sélection de 10000 lignes aléatoires\n",
        "data_sample = data.sample(n=100000, random_state=1)\n",
        "data2_sample = data2.sample(n=100000, random_state=1)\n",
        "data_sample['Valeur fonciere'] = data_sample['Valeur fonciere'].str.replace(',', '.').astype(float)\n",
        "data2_sample['Valeur fonciere'] = data2_sample['Valeur fonciere'].str.replace(',', '.').astype(float)"
      ]
    },
    {
      "cell_type": "code",
      "execution_count": 10,
      "metadata": {
        "id": "X8pSDFjGnNHZ"
      },
      "outputs": [],
      "source": [
        "data[\"Surface terrain\"] = data[\"Surface terrain\"].apply(lambda x: str(x).replace(',', '.'))\n",
        "data[\"Valeur fonciere\"] = data[\"Valeur fonciere\"].apply(lambda x: str(x).replace(',', '.'))\n",
        "\n",
        "data[\"Section\"] = data[\"Section\"].astype(str)\n",
        "surfaceterrain = data[\"Surface terrain\"].dropna()\n",
        "surfaceterrain = surfaceterrain.astype(float)\n",
        "valeurfonciere = data[\"Valeur fonciere\"].dropna()\n",
        "valeurfonciere = valeurfonciere.astype(float)\n",
        "data[\"PrixFloat\"] = data[\"Valeur fonciere\"].astype(float).fillna(0)\n",
        "data[\"PrixInt\"] = data[\"PrixFloat\"].astype(int)\n",
        "data[\"Surface terrain\"] = data[\"Surface terrain\"].astype(float)"
      ]
    },
    {
      "cell_type": "code",
      "execution_count": 11,
      "metadata": {
        "colab": {
          "base_uri": "https://localhost:8080/",
          "height": 410
        },
        "id": "HqmpO21EnRcD",
        "outputId": "b6476b9a-1fb9-4349-9011-81cda1dbad87"
      },
      "outputs": [
        {
          "data": {
            "image/png": "[encoded data removed]",
            "text/plain": [
              "<Figure size 576x288 with 1 Axes>"
            ]
          },
          "metadata": {
            "needs_background": "light"
          },
          "output_type": "display_data"
        }
      ],
      "source": [
        "plt.figure(figsize=(8, 4))\n",
        "plt.hist(data[\"Section\"], bins=30, alpha=0.75, color='blue')\n",
        "plt.xlabel('Valeur')\n",
        "plt.ylabel('Fréquence')\n",
        "plt.title('Histogramme')\n",
        "plt.grid(True)\n",
        "plt.show()"
      ]
    },
    {
      "cell_type": "code",
      "execution_count": 12,
      "metadata": {
        "colab": {
          "base_uri": "https://localhost:8080/",
          "height": 410
        },
        "id": "quTxbmQWnUZ0",
        "outputId": "ce6c9e9b-4e40-4220-8d62-76b10ff573c0"
      },
      "outputs": [
        {
          "data": {
            "image/png": "[encoded data removed]",
            "text/plain": [
              "<Figure size 432x288 with 1 Axes>"
            ]
          },
          "metadata": {
            "needs_background": "light"
          },
          "output_type": "display_data"
        }
      ],
      "source": [
        "plt.figure(figsize=(6, 4))\n",
        "plt.scatter(surfaceterrain, valeurfonciere, alpha=0.75, color='green', edgecolors='black')\n",
        "plt.xlabel('Valeur X')\n",
        "plt.ylabel('Valeur Y')\n",
        "plt.title('Nuage de points')\n",
        "plt.grid(True)\n",
        "plt.show()"
      ]
    },
    {
      "cell_type": "code",
      "execution_count": 13,
      "metadata": {
        "colab": {
          "base_uri": "https://localhost:8080/",
          "height": 410
        },
        "id": "BaUDLjkVnedS",
        "outputId": "580d2265-0ec2-4dc4-ed5d-639edd539650"
      },
      "outputs": [
        {
          "data": {
            "image/png": "[encoded data removed]",
            "text/plain": [
              "<Figure size 432x288 with 1 Axes>"
            ]
          },
          "metadata": {
            "needs_background": "light"
          },
          "output_type": "display_data"
        }
      ],
      "source": [
        "plt.figure(figsize=(6, 4))\n",
        "plt.plot(valeurfonciere, alpha=0.75, color='green')\n",
        "plt.xlabel('Valeur X')\n",
        "plt.ylabel('Valeur Y')\n",
        "plt.title('Nuage de points')\n",
        "plt.grid(True)\n",
        "plt.show()"
      ]
    },
    {
      "cell_type": "code",
      "execution_count": 14,
      "metadata": {
        "colab": {
          "base_uri": "https://localhost:8080/"
        },
        "id": "0SA4xDNNp8p1",
        "outputId": "ab895ead-66ef-435c-9833-3acd4aa8ac1b"
      },
      "outputs": [
        {
          "name": "stdout",
          "output_type": "stream",
          "text": [
            "0           1\n",
            "1           1\n",
            "2           1\n",
            "3           1\n",
            "4           1\n",
            "           ..\n",
            "3803880    12\n",
            "3803881    12\n",
            "3803882    12\n",
            "3803883    12\n",
            "3803884    11\n",
            "Name: Date mutation, Length: 3803885, dtype: int64\n"
          ]
        }
      ],
      "source": [
        "date = pd.to_datetime(data['Date mutation'], format=\"%d/%m/%Y\")\n",
        "month = date.dt.month\n",
        "data[\"Date\"] = date\n",
        "data[\"Month\"] = month\n",
        "data[\"Days\"] = date.dt.day\n",
        "print(month)"
      ]
    },
    {
      "cell_type": "code",
      "execution_count": 15,
      "metadata": {
        "colab": {
          "base_uri": "https://localhost:8080/"
        },
        "id": "lWPmKrQIuKSn",
        "outputId": "430e77cb-79b9-4462-fe88-3ddf573d605c"
      },
      "outputs": [
        {
          "name": "stdout",
          "output_type": "stream",
          "text": [
            "        Date mutation                     Nature mutation Valeur fonciere  \\\n",
            "1490099    01/01/2022                               Vente             nan   \n",
            "1490102    01/01/2022                               Vente             nan   \n",
            "1490101    01/01/2022                               Vente             nan   \n",
            "1490100    01/01/2022                               Vente             nan   \n",
            "1490098    01/01/2022                               Vente             nan   \n",
            "...               ...                                 ...             ...   \n",
            "921434     31/12/2022                               Vente       150000.00   \n",
            "996010     31/12/2022                               Vente       159000.00   \n",
            "996011     31/12/2022                               Vente       159000.00   \n",
            "510535     31/12/2022                               Vente       390000.00   \n",
            "1444968    31/12/2022  Vente en l'état futur d'achèvement       262000.00   \n",
            "\n",
            "         No voie B/T/Q Type de voie Code voie                        Voie  \\\n",
            "1490099      NaN   NaN          NaN      B262             SOUS LES CHENES   \n",
            "1490102      NaN   NaN          NaN      B206                 AU PIPEREAU   \n",
            "1490101      NaN   NaN          NaN      B206                 AU PIPEREAU   \n",
            "1490100      NaN   NaN          NaN      B069             COMBE D AMOURET   \n",
            "1490098      NaN   NaN          NaN      B120                  ENTROUPRES   \n",
            "...          ...   ...          ...       ...                         ...   \n",
            "921434      32.0   NaN          RUE      0860               HENRI BOURHIS   \n",
            "996010      26.0   NaN           AV      0460             LUCIEN JALABERT   \n",
            "996011      26.0   NaN           AV      0460             LUCIEN JALABERT   \n",
            "510535       NaN   NaN          NaN      B211  LE GRAND MILLAUD DE VILLEN   \n",
            "1444968      NaN   NaN          NaN       NaN                         NaN   \n",
            "\n",
            "         Code postal     Commune  ... Surface reelle bati  \\\n",
            "1490099      39190.0       ROSAY  ...                 NaN   \n",
            "1490102      39190.0       ROSAY  ...                 NaN   \n",
            "1490101      39190.0       ROSAY  ...                 NaN   \n",
            "1490100      39190.0       ROSAY  ...                 NaN   \n",
            "1490098      39190.0       ROSAY  ...                 NaN   \n",
            "...              ...         ...  ...                 ...   \n",
            "921434       29800.0  LANDERNEAU  ...                68.0   \n",
            "996010       30340.0   SALINDRES  ...                 0.0   \n",
            "996011       30340.0   SALINDRES  ...                69.0   \n",
            "510535       16430.0  CHAMPNIERS  ...                 NaN   \n",
            "1444968          NaN   FONDETTES  ...                 NaN   \n",
            "\n",
            "         Nombre pieces principales  Nature culture Nature culture speciale  \\\n",
            "1490099                        NaN              BS                     NaN   \n",
            "1490102                        NaN              BS                     NaN   \n",
            "1490101                        NaN              BT                     NaN   \n",
            "1490100                        NaN              BT                     NaN   \n",
            "1490098                        NaN               P                     NaN   \n",
            "...                            ...             ...                     ...   \n",
            "921434                         3.0               S                     NaN   \n",
            "996010                         0.0               S                     NaN   \n",
            "996011                         3.0               S                     NaN   \n",
            "510535                         NaN               T                     NaN   \n",
            "1444968                        NaN             NaN                     NaN   \n",
            "\n",
            "         Surface terrain PrixFloat PrixInt       Date Month Days  \n",
            "1490099           1090.0       0.0       0 2022-01-01     1    1  \n",
            "1490102           1210.0       0.0       0 2022-01-01     1    1  \n",
            "1490101            740.0       0.0       0 2022-01-01     1    1  \n",
            "1490100            980.0       0.0       0 2022-01-01     1    1  \n",
            "1490098           1270.0       0.0       0 2022-01-01     1    1  \n",
            "...                  ...       ...     ...        ...   ...  ...  \n",
            "921434             130.0  150000.0  150000 2022-12-31    12   31  \n",
            "996010             183.0  159000.0  159000 2022-12-31    12   31  \n",
            "996011             183.0  159000.0  159000 2022-12-31    12   31  \n",
            "510535            1270.0  390000.0  390000 2022-12-31    12   31  \n",
            "1444968              NaN  262000.0  262000 2022-12-31    12   31  \n",
            "\n",
            "[3803885 rows x 40 columns]\n"
          ]
        }
      ],
      "source": [
        "data.sort_values(by='Date', inplace=True)\n",
        "print(data)"
      ]
    },
    {
      "cell_type": "code",
      "execution_count": 16,
      "metadata": {
        "colab": {
          "base_uri": "https://localhost:8080/",
          "height": 570
        },
        "id": "uXD8QvZXt_70",
        "outputId": "58d1cc65-6612-417b-9696-030a20ca5ea8"
      },
      "outputs": [
        {
          "name": "stdout",
          "output_type": "stream",
          "text": [
            "[3.03904044e-08 1.65592290e+01]\n",
            " \n",
            "3.039e-08 x + 16.56\n",
            "34801418699968.027\n"
          ]
        },
        {
          "name": "stderr",
          "output_type": "stream",
          "text": [
            "/var/folders/s_/3g6sdr6951944m7847cc24180000gn/T/ipykernel_7282/1091622607.py:13: RuntimeWarning: overflow encountered in long_scalars\n",
            "  somme += (data['PrixInt'][i]-polynome(data[\"Days\"][i]))**2\n"
          ]
        },
        {
          "name": "stdout",
          "output_type": "stream",
          "text": [
            "855238419459.5892\n"
          ]
        },
        {
          "data": {
            "image/png": "[encoded data removed]",
            "text/plain": [
              "<Figure size 432x288 with 1 Axes>"
            ]
          },
          "metadata": {
            "needs_background": "light"
          },
          "output_type": "display_data"
        }
      ],
      "source": [
        "coefficients = np.polyfit(data[\"PrixInt\"], data[\"Days\"], 1)\n",
        "print(coefficients)\n",
        "polynome = np.poly1d(coefficients)\n",
        "print(polynome)\n",
        "# Générer la ligne de régression linéaire à partir des coefficients\n",
        "y_regression = polynome(data[\"PrixInt\"])\n",
        "\n",
        "\n",
        "#CALCUL DE L'ERREUR\n",
        "def Calculderreur(polynome):\n",
        "    somme = 0 \n",
        "    for i in range(len(data[\"PrixInt\"])):\n",
        "        somme += (data['PrixInt'][i]-polynome(data[\"Days\"][i]))**2\n",
        "    somme /= len(data[\"Days\"])\n",
        "    return somme\n",
        "print(Calculderreur(polynome))\n",
        "print(Calculderreur(np.poly1d([2,10])))\n",
        "plt.plot(data[\"Days\"], y_regression, color='red')\n",
        "plt.scatter(data[\"Days\"],data[\"PrixInt\"])\n",
        "plt.show()"
      ]
    },
    {
      "cell_type": "code",
      "execution_count": 17,
      "metadata": {
        "colab": {
          "base_uri": "https://localhost:8080/",
          "height": 1000
        },
        "id": "rThUdmnw1uLd",
        "outputId": "23afd00a-faef-4534-9321-a0813379017e"
      },
      "outputs": [
        {
          "name": "stdout",
          "output_type": "stream",
          "text": [
            "Prix moyen :  699681.5910249653\n",
            "Liste des département :  1490099    39\n",
            "510814     17\n",
            "1905730    49\n",
            "3273693    87\n",
            "2417510    65\n",
            "           ..\n",
            "569004     18\n",
            "3232872    86\n",
            "256167      9\n",
            "2367843    63\n",
            "919807     29\n",
            "Name: Code departement, Length: 99, dtype: object\n",
            "Prix moyen pour le département 39 :  148267.81606555945\n",
            "Prix moyen pour le département 17 :  268133.60665172513\n",
            "Prix moyen pour le département 49 :  266105.1622325162\n",
            "Prix moyen pour le département 87 :  145028.36897335146\n",
            "Prix moyen pour le département 65 :  462948.1763945542\n",
            "Prix moyen pour le département 1 :  320872.02829383756\n",
            "Prix moyen pour le département 94 :  1308619.407109753\n",
            "Prix moyen pour le département 38 :  266882.7533724544\n",
            "Prix moyen pour le département 5 :  541602.0325491892\n",
            "Prix moyen pour le département 95 :  596600.0391907515\n",
            "Prix moyen pour le département 92 :  3958266.450586202\n",
            "Prix moyen pour le département 45 :  330486.9896554261\n",
            "Prix moyen pour le département 73 :  378457.613914317\n",
            "Prix moyen pour le département 77 :  850750.3005863811\n",
            "Prix moyen pour le département 56 :  246284.97922837213\n",
            "Prix moyen pour le département 31 :  348146.2402342042\n",
            "Prix moyen pour le département 64 :  483179.2248901658\n",
            "Prix moyen pour le département 33 :  700729.5242255841\n",
            "Prix moyen pour le département 58 :  150884.50296504924\n",
            "Prix moyen pour le département 10 :  205098.06446787892\n",
            "Prix moyen pour le département 59 :  630954.4675870243\n",
            "Prix moyen pour le département 14 :  305918.23869047617\n",
            "Prix moyen pour le département 4 :  193520.01644298687\n",
            "Prix moyen pour le département 35 :  476855.1331183848\n",
            "Prix moyen pour le département 28 :  248710.505314243\n",
            "Prix moyen pour le département 7 :  157599.3433084223\n",
            "Prix moyen pour le département 55 :  87366.07932577615\n",
            "Prix moyen pour le département 34 :  504346.89466079354\n",
            "Prix moyen pour le département 6 :  710044.1139118513\n",
            "Prix moyen pour le département 62 :  283951.23415164644\n",
            "Prix moyen pour le département 54 :  380584.4984899288\n",
            "Prix moyen pour le département 30 :  319666.0274453538\n",
            "Prix moyen pour le département 84 :  563853.1218978848\n",
            "Prix moyen pour le département 25 :  203995.76948273816\n",
            "Prix moyen pour le département 72 :  218498.58674369846\n",
            "Prix moyen pour le département 50 :  167737.04200873835\n",
            "Prix moyen pour le département 75 :  3378758.446274188\n",
            "Prix moyen pour le département 60 :  327652.7852822239\n",
            "Prix moyen pour le département 2A :  462368.51940558216\n",
            "Prix moyen pour le département 66 :  204639.8716796419\n",
            "Prix moyen pour le département 48 :  113957.2216812374\n",
            "Prix moyen pour le département 46 :  180814.6191171836\n",
            "Prix moyen pour le département 26 :  300370.28389758326\n",
            "Prix moyen pour le département 2B :  205539.92524434192\n",
            "Prix moyen pour le département 3 :  137934.70678535977\n"
          ]
        }
      ],
      "source": [
        "print(\"Prix moyen : \",data[\"PrixInt\"].mean())\n",
        "departement = data[\"Code departement\"].drop_duplicates()\n",
        "print(\"Liste des département : \",departement)\n",
        "for i in departement:\n",
        "    listedesprix = []\n",
        "    for j in range(len(data[\"Code departement\"])):\n",
        "      if(str(data[\"Code departement\"][j]) == str(i)):\n",
        "        listedesprix.append(data[\"PrixFloat\"][j])\n",
        "    print(\"Prix moyen pour le département \"+str(i)+\" : \",statistics.mean(listedesprix))\n"
      ]
    },
    {
      "cell_type": "code",
      "execution_count": null,
      "metadata": {
        "id": "TyrUMgDhVbBC"
      },
      "outputs": [],
      "source": [
        "def average_price_by_road_type(dept_data):\n",
        "    # Sélectionner les 5 types de voie les plus fréquents\n",
        "    top_5_road_types = dept_data['Type de voie'].value_counts().nlargest(5).index\n",
        "\n",
        "    # Filtrer les données pour inclure uniquement les 5 types de voie les plus fréquents\n",
        "    filtered_dept_data = dept_data[dept_data['Type de voie'].isin(top_5_road_types)]\n",
        "\n",
        "    # Calculer les prix moyens pour les 5 types de voie les plus fréquents\n",
        "    average_prices = filtered_dept_data.groupby('Type de voie')['PrixFloat'].mean()\n",
        "    return average_prices"
      ]
    },
    {
      "cell_type": "code",
      "execution_count": null,
      "metadata": {
        "colab": {
          "base_uri": "https://localhost:8080/",
          "height": 1000
        },
        "id": "YY1GNxwXVbBC",
        "outputId": "dee9dbcd-d6c1-41f0-bd95-4d6619a1fcfd"
      },
      "outputs": [],
      "source": [
        "# Parcourir chaque département et tracer l'histogramme des prix moyens par type de voie\n",
        "for j in departement:\n",
        "    fig, ax = plt.subplots()\n",
        "    dept_data = data[data['Code departement'] == int(j)]\n",
        "    average_prices = average_price_by_road_type(dept_data)\n",
        "    \n",
        "    # Tracer l'histogramme des prix moyens pour le département actuel\n",
        "    ax.bar(average_prices.index, average_prices, label=f'Département {j}')\n",
        "\n",
        "    # Configurer les étiquettes des axes et le titre\n",
        "    ax.set_xlabel(\"Type de voie\")\n",
        "    ax.set_ylabel(\"Prix moyen\")\n",
        "    ax.set_title(\"Histogramme des prix moyens pour les 5 types de voie les plus fréquents par département\")\n",
        "\n",
        "    # Ajouter une légende\n",
        "    ax.legend()\n",
        "\n",
        "    # Afficher le graphique\n",
        "plt.show()"
      ]
    },
    {
      "cell_type": "code",
      "execution_count": null,
      "metadata": {
        "id": "w1UObZtSL4H8"
      },
      "outputs": [],
      "source": [
        "departement = [75,78,92]\n",
        "data[\"Prix/m2\"] = data[\"PrixInt\"]/data[\"Surface terrain\"]\n",
        "for j in departement:\n",
        "    dept_data = data[data['Code departement'] == int(j)]\n",
        "    type_counts = dept_data[\"Type local\"].value_counts()\n",
        "    type_counts_dict = type_counts.to_dict()\n",
        "    fig, ax = plt.subplots()\n",
        "    prixenfonctiondulocal = {}\n",
        "    for u in type_counts_dict.keys():\n",
        "        dept_datatype = dept_data[dept_data['Type local'] == str(u)]\n",
        "        prixenfonctiondulocal[u] = dept_datatype[\"Prix/m2\"].median()\n",
        "    print(prixenfonctiondulocal)\n",
        "    ax.barh(list(type_counts_dict.keys()), list(type_counts_dict.values()))\n",
        "    ax.set_xlabel(\"Nombre d'occurrences\")\n",
        "    ax.set_ylabel(\"Type\")\n",
        "    ax.set_title(\"Type de local dans le département numéro : \"+str(j))\n",
        "    plt.show()\n",
        "    fig, ax = plt.subplots()\n",
        "    ax.barh(list(prixenfonctiondulocal.keys()), list(prixenfonctiondulocal.values()))\n",
        "    ax.set_xlabel(\"Nombre d'occurrences\")\n",
        "    ax.set_ylabel(\"Type\")\n",
        "    ax.set_title(\"Prix/m² en fonction du type de local dans le département numéro : \"+str(j))\n",
        "    plt.show()"
      ]
    },
    {
      "cell_type": "code",
      "execution_count": null,
      "metadata": {
        "colab": {
          "base_uri": "https://localhost:8080/",
          "height": 472
        },
        "id": "C9bnzL5OVuOe",
        "outputId": "21264061-79a9-4213-cf40-562999471020"
      },
      "outputs": [],
      "source": [
        "ventes_par_mois = {}\n",
        "for _, row in data.iterrows():\n",
        "    date_str = row['Date mutation']\n",
        "    valeur_fonciere = row['Valeur fonciere']\n",
        "    if isinstance(date_str, str) and isinstance(valeur_fonciere, str): # s'assurer que les champs contiennent des données valides\n",
        "        date = datetime.strptime(date_str, '%d/%m/%Y')\n",
        "        mois = date.month\n",
        "        if mois not in ventes_par_mois:\n",
        "            ventes_par_mois[mois] = 1\n",
        "        else:\n",
        "            ventes_par_mois[mois] += 1\n",
        "\n",
        "mois = []\n",
        "ventes = []\n",
        "for k, v in ventes_par_mois.items():\n",
        "    mois.append(k)\n",
        "    ventes.append(v)\n",
        "\n",
        "plt.bar(mois, ventes)\n",
        "plt.xlabel('Mois de l\\'année')\n",
        "plt.ylabel('Nombre de ventes')\n",
        "plt.title('Nombre de ventes par mois en 2022')\n",
        "plt.show()"
      ]
    },
    {
      "cell_type": "code",
      "execution_count": null,
      "metadata": {
        "colab": {
          "base_uri": "https://localhost:8080/",
          "height": 550
        },
        "id": "GZlvn-U3YWfd",
        "outputId": "d2a94ab4-9377-4d1c-ca82-8a3eee4b54c7"
      },
      "outputs": [],
      "source": [
        "# Convertir la colonne \"Date mutation\" en objet datetime\n",
        "data[\"Date mutation\"] = pd.to_datetime(data[\"Date mutation\"], format=\"%d/%m/%Y\")\n",
        "\n",
        "# Créer une colonne \"Mois\" qui contient le mois de chaque vente\n",
        "data[\"Mois\"] = data[\"Date mutation\"].dt.month\n",
        "\n",
        "# Calculer le prix médian des ventes pour chaque mois de l'année\n",
        "prix_median = data.groupby(\"Mois\")[\"Valeur fonciere\"].median()\n",
        "\n",
        "# Tracer le graphique de l'évolution du prix médian en fonction du mois\n",
        "plt.plot(prix_median.index, prix_median.values)\n",
        "plt.xlabel('Mois de l\\'année')\n",
        "plt.ylabel('Prix médian des ventes')\n",
        "plt.title('Évolution du prix médian des ventes par mois en 2022')\n",
        "plt.show()"
      ]
    },
    {
      "cell_type": "code",
      "execution_count": null,
      "metadata": {
        "colab": {
          "base_uri": "https://localhost:8080/",
          "height": 838
        },
        "id": "NcRwTwT7L3JV",
        "outputId": "9eb78623-1649-4927-d3b4-c3ec5243fb93"
      },
      "outputs": [],
      "source": [
        "# Camemberts : Répartition des types locaux des biens\n",
        "plt.figure(figsize=(8, 8))\n",
        "data[\"Type local\"].value_counts().plot(kind=\"pie\", autopct=\"%1.1f%%\")\n",
        "plt.ylabel(\"\")\n",
        "plt.title(\"Répartition des types locaux des biens\")\n",
        "\n",
        "\"\"\"\n",
        "représente la répartition des différents types de locaux pour les biens immobiliers dans votre \n",
        "ensemble de données. Voici une explication de chaque élément du camembert :\n",
        "\n",
        "\"Appartement\" : Cela indique la proportion d'appartements parmi tous les biens immobiliers présents\n",
        " dans les données.\n",
        "\"Maison\" : Cela représente la proportion de maisons parmi tous les biens immobiliers.\n",
        "\"Dépendance\" : Cela représente la proportion de dépendances (par exemple, des garages ou des \n",
        "  annexes) parmi tous les biens immobiliers.\n",
        "\"Local industriel. commercial ou assimilé\" : Cela indique la proportion de locaux industriels,\n",
        "  commerciaux ou assimilés (par exemple, des entrepôts ou des magasins) parmi tous les biens\n",
        "  immobiliers.\n",
        "\"Local industriel. commercial ou assimilé + appartement\" : Cela représente la proportion de biens \n",
        "  immobiliers qui sont une combinaison d'un local industriel, commercial ou assimilé et d'un \n",
        "  appartement.\n",
        "\"Dépendance + maison\" : Cela indique la proportion de biens immobiliers qui sont une combinaison \n",
        "  d'une dépendance et d'une maison.\n",
        "Le camembert donne une vue d'ensemble visuelle de la répartition des types locaux des biens \n",
        "immobiliers dans vos données. Il vous permet de voir la proportion relative de chaque type de bien,\n",
        "ce qui peut être utile pour comprendre la composition générale de votre ensemble de données et \n",
        "identifier les tendances ou les prédominances.\n",
        "\"\"\""
      ]
    },
    {
      "cell_type": "code",
      "execution_count": null,
      "metadata": {
        "colab": {
          "base_uri": "https://localhost:8080/",
          "height": 496
        },
        "id": "cG_famArSc4W",
        "outputId": "894580aa-311b-4459-ed6f-a894a01f94c0"
      },
      "outputs": [],
      "source": [
        "# Convertir la colonne \"Valeur fonciere\" en nombre\n",
        "data[\"Valeur fonciere\"] = pd.to_numeric(data[\"Valeur fonciere\"], errors=\"coerce\")\n",
        "\n",
        "# Graphique 1 : Boîtes à moustaches pour la valeur foncière par type de voie\n",
        "plt.figure(figsize=(10, 6))\n",
        "data.boxplot(column=\"Valeur fonciere\", by=\"Type de voie\")\n",
        "plt.xlabel(\"Type de voie\")\n",
        "plt.ylabel(\"Valeur foncière\")\n",
        "\n",
        "# Afficher le graphique\n",
        "plt.show()\n",
        "\n",
        "\"\"\"\n",
        "permet de visualiser la répartition de la valeur foncière en fonction du type de voie dans votre \n",
        "ensemble de données.\n",
        "\n",
        "Voici une explication des éléments clés de la boîte à moustaches :\n",
        "\n",
        "La boîte représente l'étendue interquartile (IQR) des données, c'est-à-dire la plage où se situent\n",
        "les 50 % centraux des valeurs. Elle s'étend du premier quartile (Q1) au troisième quartile (Q3). La \n",
        "longueur de la boîte représente la dispersion des valeurs dans cette plage.\n",
        "La ligne à l'intérieur de la boîte représente la médiane, qui indique la valeur qui divise la \n",
        "distribution en deux parties égales.\n",
        "Les \"moustaches\" s'étendent à partir de la boîte jusqu'aux valeurs situées à l'extérieur de \n",
        "l'étendue interquartile. Elles peuvent représenter des valeurs aberrantes ou des valeurs extrêmes \n",
        "qui se trouvent au-delà de la plage des 1,5 fois l'IQR.\n",
        "Les points individuels situés en dehors des moustaches sont des valeurs aberrantes, considérées \n",
        "comme des observations atypiques.\n",
        "En interprétant le graphique, vous pouvez comparer la médiane et la dispersion de la valeur foncière\n",
        "pour chaque type de voie. Vous pouvez également identifier la présence de valeurs aberrantes ou \n",
        "extrêmes qui pourraient influencer la distribution. Cela peut fournir des informations utiles sur \n",
        "les variations de la valeur foncière en fonction du type de voie dans votre ensemble de données.\n",
        "\"\"\""
      ]
    },
    {
      "cell_type": "code",
      "execution_count": null,
      "metadata": {
        "colab": {
          "base_uri": "https://localhost:8080/",
          "height": 515
        },
        "id": "Stg34J3vWMdz",
        "outputId": "abe99289-9be7-4585-d208-fed9f197d52b"
      },
      "outputs": [],
      "source": [
        "  # Boîtes à moustaches pour la valeur foncière par type local\n",
        "  plt.figure(figsize=(10, 6))\n",
        "  data.boxplot(column=\"Valeur fonciere\", by=\"Type local\")\n",
        "  plt.xlabel(\"Type local\")\n",
        "  plt.ylabel(\"Valeur foncière\")\n",
        "  plt.title(\"Boîtes à moustaches pour la valeur foncière par type local\")\n",
        "\n",
        "\n",
        "  \"\"\"\n",
        "  permet de visualiser la répartition de la valeur foncière en fonction du type de local dans votre\n",
        "  ensemble de données.\n",
        "\n",
        "  Voici une explication des éléments clés de la boîte à moustaches :\n",
        "\n",
        "  La boîte représente l'étendue interquartile (IQR) des données, c'est-à-dire la plage où se situent \n",
        "  les 50 % centraux des valeurs. Elle s'étend du premier quartile (Q1) au troisième quartile (Q3). La\n",
        "  longueur de la boîte représente la dispersion des valeurs dans cette plage.\n",
        "  La ligne à l'intérieur de la boîte représente la médiane, qui indique la valeur qui divise la \n",
        "  istribution en deux parties égales.\n",
        "  Les \"moustaches\" s'étendent à partir de la boîte jusqu'aux valeurs situées à l'extérieur de \n",
        "  l'étendue interquartile. Elles peuvent représenter des valeurs aberrantes ou des valeurs extrêmes \n",
        "  qui se trouvent au-delà de la plage des 1,5 fois l'IQR.\n",
        "  Les points individuels situés en dehors des moustaches sont des valeurs aberrantes, considérées \n",
        "  comme des observations atypiques.\n",
        "  En interprétant le graphique, vous pouvez comparer la médiane et la dispersion de la valeur foncière \n",
        "  pour chaque type de local. Vous pouvez également identifier la présence de valeurs aberrantes ou \n",
        "  extrêmes qui pourraient influencer la distribution. Cela peut fournir des informations utiles sur \n",
        "  les variations de la valeur foncière en fonction du type de local dans votre ensemble de données.\n",
        "  \"\"\""
      ]
    },
    {
      "cell_type": "code",
      "execution_count": null,
      "metadata": {
        "colab": {
          "base_uri": "https://localhost:8080/",
          "height": 693
        },
        "id": "n8BNYklJXR59",
        "outputId": "4f71eeda-2add-465d-9156-1f353a17832d"
      },
      "outputs": [],
      "source": [
        "# Camemberts : Répartition des types de culture des terrains\n",
        "plt.figure(figsize=(8, 8))\n",
        "data[\"Nature culture\"].value_counts().plot(kind=\"pie\", autopct=\"%1.1f%%\")\n",
        "plt.ylabel(\"\")\n",
        "plt.title(\"Répartition des types de culture des terrains\")\n",
        "\n",
        "\"\"\"\n",
        "Représente la répartition des types de culture des terrains à partir des données fournies dans le \n",
        "document. Chaque portion du camembert représente un type de culture spécifique, et la taille de \n",
        "chaque portion est proportionnelle à la fréquence d'apparition de ce type de culture dans les \n",
        "données.\n",
        "Le camembert affiche visuellement la répartition de ces types de culture en utilisant des portions \n",
        "circulaires. Chaque portion est étiquetée avec le nom du type de culture et le pourcentage \n",
        "correspondant à la fréquence d'apparition de ce type de culture par rapport au total.\n",
        "\n",
        "Par exemple, si le camembert indique \"Agriculture: 40.0%\", cela signifie que le type de culture \n",
        "\"Agriculture\" représente 40% de la répartition totale des types de culture des terrains.\n",
        "\n",
        "\"\"\""
      ]
    },
    {
      "cell_type": "code",
      "execution_count": null,
      "metadata": {},
      "outputs": [],
      "source": [
        "# Convertit 'Date mutation' en datetime\n",
        "data_sample['Date mutation'] = pd.to_datetime(data_sample['Date mutation'], format='%d/%m/%Y')\n",
        "data2_sample['Date mutation'] = pd.to_datetime(data2_sample['Date mutation'], format='%d/%m/%Y')\n",
        "\n",
        "# Ajoute la colonne 'Mois'\n",
        "data_sample['Mois'] = data_sample['Date mutation'].dt.month\n",
        "data2_sample['Mois'] = data2_sample['Date mutation'].dt.month\n",
        "\n",
        "# Calcule l'IQR pour 'Valeur fonciere' dans les deux jeux de données\n",
        "Q1_1 = data_sample['Valeur fonciere'].quantile(0.25)\n",
        "Q3_1 = data_sample['Valeur fonciere'].quantile(0.75)\n",
        "IQR_1 = Q3_1 - Q1_1\n",
        "\n",
        "Q1_2 = data2_sample['Valeur fonciere'].quantile(0.25)\n",
        "Q3_2 = data2_sample['Valeur fonciere'].quantile(0.75)\n",
        "IQR_2 = Q3_2 - Q1_2\n",
        "\n",
        "# Définit les limites pour les valeurs aberrantes dans les deux jeux de données\n",
        "limite_inferieure_1 = Q1_1 - 1.5 * IQR_1\n",
        "limite_superieure_1 = Q3_1 + 1.5 * IQR_1\n",
        "\n",
        "limite_inferieure_2 = Q1_2 - 1.5 * IQR_2\n",
        "limite_superieure_2 = Q3_2 + 1.5 * IQR_2\n",
        "\n",
        "# Filtre les données\n",
        "donnees_filtrees_1 = data_sample[(data_sample['Valeur fonciere'] >= limite_inferieure_1) & (data_sample['Valeur fonciere'] <= limite_superieure_1)]\n",
        "donnees_filtrees_2 = data2_sample[(data2_sample['Valeur fonciere'] >= limite_inferieure_2) & (data2_sample['Valeur fonciere'] <= limite_superieure_2)]\n",
        "\n",
        "# Crée les boîtes à moustaches\n",
        "plt.figure(figsize=(12,6))\n",
        "\n",
        "# Boîte à moustaches pour la première année\n",
        "plt.subplot(1, 2, 1)\n",
        "sns.boxplot(x='Mois', y='Valeur fonciere', data=donnees_filtrees_1)\n",
        "plt.title('Boîte à moustaches de \"Valeur fonciere\" par mois (valeurs aberrantes supprimées) - Année 1')\n",
        "\n",
        "# Boîte à moustaches pour la deuxième année\n",
        "plt.subplot(1, 2, 2)\n",
        "sns.boxplot(x='Mois', y='Valeur fonciere', data=donnees_filtrees_2)\n",
        "plt.title('Boîte à moustaches de \"Valeur fonciere\" par mois (valeurs aberrantes supprimées) - Année 2')\n",
        "\n",
        "plt.tight_layout()\n",
        "plt.show()\n",
        "\n",
        "# Concaténe les données filtrées\n",
        "donnees_filtrees = pd.concat([donnees_filtrees_1, donnees_filtrees_2])\n",
        "\n",
        "# Crée une nouvelle colonne 'Année' dans les données filtrées\n",
        "donnees_filtrees['Annee'] = donnees_filtrees['Date mutation'].dt.year\n",
        "\n",
        "# Crée la boîte à moustaches\n",
        "plt.figure(figsize=(12,6))\n",
        "sns.boxplot(x='Mois', y='Valeur fonciere', hue='Annee', data=donnees_filtrees)\n",
        "plt.title('Boîte à moustaches de \"Valeur fonciere\" par mois (valeurs aberrantes supprimées), superposition des années')\n",
        "plt.show()\n"
      ]
    },
    {
      "cell_type": "code",
      "execution_count": null,
      "metadata": {},
      "outputs": [],
      "source": [
        "#Diagramme en barres du Nombre de Pièces Principales : Cela peut montrer la distribution du nombre de pièces parmi les propriétés.\n",
        "data_sample['Nombre pieces principales'].value_counts().sort_index().plot(kind='bar', color='blue', alpha=0.5, label=\"2022\")\n",
        "data2_sample['Nombre pieces principales'].value_counts().sort_index().plot(kind='bar', color='green', alpha=0.5, label=\"2019\")\n",
        "plt.xlabel('Nombre de pièces principales')\n",
        "plt.ylabel('Nombre de propriétés')\n",
        "plt.legend(loc='upper right')\n",
        "plt.show()\n"
      ]
    },
    {
      "cell_type": "code",
      "execution_count": null,
      "metadata": {},
      "outputs": [],
      "source": [
        "#Diagramme en Camembert du Type Local : Cela peut montrer la répartition des types de propriétés (appartement, maison, etc.) dans l'ensemble de données.\n",
        "data_sample['Type local'].value_counts().plot(kind='pie', autopct='%1.1f%%')\n",
        "plt.title('Répartition des types de locaux en 2022')\n",
        "plt.show()\n",
        "\n",
        "data2_sample['Type local'].value_counts().plot(kind='pie', autopct='%1.1f%%')\n",
        "plt.title('Répartition des types de locaux en 2019')\n",
        "\n",
        "\n",
        "plt.show()"
      ]
    },
    {
      "cell_type": "code",
      "execution_count": null,
      "metadata": {},
      "outputs": [],
      "source": [
        "# Convertit 'Date mutation' en datetime\n",
        "data_sample['Date mutation'] = pd.to_datetime(data_sample['Date mutation'], format='%d/%m/%Y')\n",
        "\n",
        "# Calcule l'IQR pour 'Surface reelle bati'\n",
        "Q1 = data_sample['Surface reelle bati'].quantile(0.25)\n",
        "Q3 = data_sample['Surface reelle bati'].quantile(0.75)\n",
        "IQR = Q3 - Q1\n",
        "\n",
        "# Définit les limites pour les valeurs aberrantes\n",
        "limite_inférieure = Q1 - 1.5 * IQR\n",
        "limite_supérieure = Q3 + 1.5 * IQR\n",
        "\n",
        "# Filtre les données\n",
        "data_filtrée = data_sample[(data_sample['Surface reelle bati'] >= limite_inférieure) & (data_sample['Surface reelle bati'] <= limite_supérieure)]\n",
        "\n",
        "# Extrait le mois de la colonne 'Date mutation'\n",
        "data_filtrée['Mois'] = data_filtrée['Date mutation'].dt.month\n",
        "\n",
        "# Crée le diagramme en boîte\n",
        "plt.figure(figsize=(12, 6))\n",
        "sns.boxplot(x='Mois', y='Surface reelle bati', data=data_filtrée)\n",
        "plt.title('Diagramme en boîte de \"Surface Reelle Bati\" par Mois (valeurs aberrantes enlevées)')\n",
        "plt.show()\n",
        "\n",
        "\n",
        "# Convertit 'Date mutation' en datetime\n",
        "data2_sample['Date mutation'] = pd.to_datetime(data2_sample['Date mutation'], format='%d/%m/%Y')\n",
        "\n",
        "# Calcule l'IQR pour 'Surface reelle bati'\n",
        "Q1 = data2_sample['Surface reelle bati'].quantile(0.25)\n",
        "Q3 = data2_sample['Surface reelle bati'].quantile(0.75)\n",
        "IQR = Q3 - Q1\n",
        "\n",
        "# Définis les limites pour les valeurs aberrantes\n",
        "limite_inférieure = Q1 - 1.5 * IQR\n",
        "limite_supérieure = Q3 + 1.5 * IQR\n",
        "\n",
        "# Filtre les données\n",
        "data_filtrée = data2_sample[(data2_sample['Surface reelle bati'] >= limite_inférieure) & (data2_sample['Surface reelle bati'] <= limite_supérieure)]\n",
        "\n",
        "# Extrait le mois de la colonne 'Date mutation'\n",
        "data_filtrée['Mois'] = data_filtrée['Date mutation'].dt.month\n",
        "\n",
        "# Crée le diagramme en boîte\n",
        "plt.figure(figsize=(12, 6))\n",
        "sns.boxplot(x='Mois', y='Surface reelle bati', data=data_filtrée)\n",
        "plt.title('Diagramme en boîte de \"Surface Reelle Bati\" par Mois (valeurs aberrantes enlevées)')\n",
        "plt.show()\n",
        "\n"
      ]
    },
    {
      "cell_type": "code",
      "execution_count": null,
      "metadata": {},
      "outputs": [],
      "source": [
        "# Convertit la colonne 'Date mutation' en type datetime\n",
        "data_sample['Date mutation'] = pd.to_datetime(data_sample['Date mutation'])\n",
        "data2_sample['Date mutation'] = pd.to_datetime(data2_sample['Date mutation'])\n",
        "\n",
        "# Extrait le mois de la colonne 'Date mutation'\n",
        "data_sample['Month'] = data_sample['Date mutation'].dt.month\n",
        "data2_sample['Month'] = data2_sample['Date mutation'].dt.month\n",
        "\n",
        "# Trace les courbes du nombre de transactions par mois\n",
        "data_sample.groupby('Month')['Valeur fonciere'].count().plot(kind='line', label='2022')\n",
        "data2_sample.groupby('Month')['Valeur fonciere'].count().plot(kind='line', label='2019')\n",
        "plt.xlabel('Mois')\n",
        "plt.ylabel('Nombre de transactions')\n",
        "plt.legend()\n",
        "plt.show()"
      ]
    },
    {
      "cell_type": "code",
      "execution_count": null,
      "metadata": {},
      "outputs": [],
      "source": [
        "data_sample['Month'] = data_sample['Date mutation'].dt.month\n",
        "data2_sample['Month'] = data2_sample['Date mutation'].dt.month\n",
        "\n",
        "data_sample.groupby('Month')['Surface terrain'].mean().plot(kind='line', label='2022')\n",
        "data2_sample.groupby('Month')['Surface terrain'].mean().plot(kind='line', label='2019')\n",
        "plt.xlabel('Mois')\n",
        "plt.ylabel('Surface moyenne du terrain')\n",
        "plt.legend()\n",
        "plt.show()"
      ]
    },
    {
      "cell_type": "code",
      "execution_count": null,
      "metadata": {},
      "outputs": [],
      "source": [
        "data_sample['Month'] = data_sample['Date mutation'].dt.month\n",
        "data2_sample['Month'] = data2_sample['Date mutation'].dt.month\n",
        "\n",
        "data_sample.groupby('Month')['Nombre de lots'].mean().plot(kind='line', label='2022')\n",
        "data2_sample.groupby('Month')['Nombre de lots'].mean().plot(kind='line', label='2019')\n",
        "plt.xlabel('Mois')\n",
        "plt.ylabel('Nombre moyen de lots')\n",
        "plt.legend()\n",
        "plt.show()\n"
      ]
    },
    {
      "cell_type": "code",
      "execution_count": null,
      "metadata": {},
      "outputs": [],
      "source": [
        "data_sample['Month'] = data_sample['Date mutation'].dt.month\n",
        "data2_sample['Month'] = data2_sample['Date mutation'].dt.month\n",
        "\n",
        "data_sample.groupby('Month')['Surface reelle bati'].mean().plot(kind='line', label='2022')\n",
        "data2_sample.groupby('Month')['Surface reelle bati'].mean().plot(kind='line', label='2019')\n",
        "plt.xlabel('Mois')\n",
        "plt.ylabel('Surface réelle bâtie moyenne')\n",
        "plt.legend()\n",
        "plt.show()"
      ]
    },
    {
      "cell_type": "code",
      "execution_count": null,
      "metadata": {},
      "outputs": [],
      "source": [
        "data_sample['Month'] = data_sample['Date mutation'].dt.month\n",
        "data2_sample['Month'] = data2_sample['Date mutation'].dt.month\n",
        "\n",
        "data_sample.groupby('Month')['Surface reelle bati'].mean().plot(kind='line', label='2022')\n",
        "data2_sample.groupby('Month')['Surface reelle bati'].mean().plot(kind='line', label='2019')\n",
        "plt.xlabel('Mois')\n",
        "plt.ylabel('Surface réelle bâtie moyenne')\n",
        "plt.legend(loc='upper right')\n",
        "plt.show()"
      ]
    },
    {
      "cell_type": "code",
      "execution_count": null,
      "metadata": {},
      "outputs": [],
      "source": [
        "# 2022 data\n",
        "nature_culture_2022 = data_sample['Nature culture'].value_counts(normalize=True).sort_values(ascending=False).head(10)\n",
        "nature_culture_2022.plot(kind='line', label='2022')\n",
        "\n",
        "# 2019 data\n",
        "nature_culture_2019 = data2_sample['Nature culture'].value_counts(normalize=True).sort_values(ascending=False).head(10)\n",
        "nature_culture_2019.plot(kind='line', label='2019')\n",
        "\n",
        "plt.xlabel('Nature culture')\n",
        "plt.ylabel('Pourcentage')\n",
        "plt.legend(loc='upper right')\n",
        "plt.xticks(rotation=45)\n",
        "plt.show()\n"
      ]
    },
    {
      "cell_type": "code",
      "execution_count": null,
      "metadata": {},
      "outputs": [],
      "source": [
        "# Convertit 'Valeur fonciere' de string à float\n",
        "#data1_sample['Valeur fonciere'] = data1_sample['Valeur fonciere'].str.replace(',', '.').astype(float)\n",
        "\n",
        "Q1 = data_sample['Valeur fonciere'].quantile(0.25)\n",
        "Q3 = data_sample['Valeur fonciere'].quantile(0.75)\n",
        "IQR = Q3 - Q1\n",
        "\n",
        "lower_limit = Q1 - 1.5 * IQR\n",
        "upper_limit = Q3 + 1.5 * IQR\n",
        "\n",
        "filtered_data = data_sample[(data_sample['Valeur fonciere'] >= lower_limit) & (data_sample['Valeur fonciere'] <= upper_limit)]\n",
        "\n",
        "# Plot\n",
        "plt.figure(figsize=(12,6))\n",
        "sns.boxplot(x='Month', y='Valeur fonciere', data=filtered_data)\n",
        "plt.title('Boxplot of \"Valeur Foncière\" by Year (outliers removed)')\n",
        "plt.show()\n",
        "\n",
        "Q1 = data2_sample['Valeur fonciere'].quantile(0.25)\n",
        "Q3 = data2_sample['Valeur fonciere'].quantile(0.75)\n",
        "IQR = Q3 - Q1\n",
        "\n",
        "lower_limit = Q1 - 1.5 * IQR\n",
        "upper_limit = Q3 + 1.5 * IQR\n",
        "\n",
        "#Filtration\n",
        "filtered_data = data2_sample[(data2_sample['Valeur fonciere'] >= lower_limit) & (data2_sample['Valeur fonciere'] <= upper_limit)]\n",
        "\n",
        "# Plot\n",
        "plt.figure(figsize=(12,6))\n",
        "sns.boxplot(x='Month', y='Valeur fonciere', data=filtered_data)\n",
        "plt.title('Boxplot of \"Valeur Foncière\" by Year (outliers removed)')\n",
        "plt.show()"
      ]
    },
    {
      "cell_type": "code",
      "execution_count": null,
      "metadata": {},
      "outputs": [],
      "source": [
        "# Convertit 'Date mutation' en datetime\n",
        "data_sample['Date mutation'] = pd.to_datetime(data_sample['Date mutation'], format='%d/%m/%Y')\n",
        "data2_sample['Date mutation'] = pd.to_datetime(data2_sample['Date mutation'], format='%d/%m/%Y')\n",
        "\n",
        "# Ajoute la colonne 'Mois'\n",
        "data_sample['Mois'] = data_sample['Date mutation'].dt.month\n",
        "data2_sample['Mois'] = data2_sample['Date mutation'].dt.month\n",
        "\n",
        "# Calcule l'IQR pour 'Surface reelle bati' dans les deux jeux de données\n",
        "Q1_1 = data_sample['Surface reelle bati'].quantile(0.25)\n",
        "Q3_1 = data_sample['Surface reelle bati'].quantile(0.75)\n",
        "IQR_1 = Q3_1 - Q1_1\n",
        "\n",
        "Q1_2 = data2_sample['Surface reelle bati'].quantile(0.25)\n",
        "Q3_2 = data2_sample['Surface reelle bati'].quantile(0.75)\n",
        "IQR_2 = Q3_2 - Q1_2\n",
        "\n",
        "# Définit les limites pour les valeurs aberrantes dans les deux jeux de données\n",
        "limite_inferieure_1 = Q1_1 - 1.5 * IQR_1\n",
        "limite_superieure_1 = Q3_1 + 1.5 * IQR_1\n",
        "\n",
        "limite_inferieure_2 = Q1_2 - 1.5 * IQR_2\n",
        "limite_superieure_2 = Q3_2 + 1.5 * IQR_2\n",
        "\n",
        "# Filtre les données\n",
        "donnees_filtrees_1 = data_sample[(data_sample['Surface reelle bati'] >= limite_inferieure_1) & (data_sample['Surface reelle bati'] <= limite_superieure_1)]\n",
        "donnees_filtrees_2 = data2_sample[(data2_sample['Surface reelle bati'] >= limite_inferieure_2) & (data2_sample['Surface reelle bati'] <= limite_superieure_2)]\n",
        "\n",
        "# Crée les boîtes à moustaches\n",
        "plt.figure(figsize=(12,6))\n",
        "\n",
        "# Boîte à moustaches pour la première année\n",
        "plt.subplot(1, 2, 1)\n",
        "sns.boxplot(x='Mois', y='Surface reelle bati', data=donnees_filtrees_1)\n",
        "plt.title('Boîte à moustaches de \"Surface reelle bati\" par mois (valeurs aberrantes supprimées) - Année 1')\n",
        "\n",
        "# Boîte à moustaches pour la deuxième année\n",
        "plt.subplot(1, 2, 2)\n",
        "sns.boxplot(x='Mois', y='Surface reelle bati', data=donnees_filtrees_2)\n",
        "plt.title('Boîte à moustaches de \"Surface reelle bati\" par mois (valeurs aberrantes supprimées) - Année 2')\n",
        "\n",
        "plt.tight_layout()\n",
        "plt.show()\n",
        "\n",
        "# Convertit 'Date mutation' en datetime\n",
        "data_sample['Date mutation'] = pd.to_datetime(data_sample['Date mutation'], format='%d/%m/%Y')\n",
        "data2_sample['Date mutation'] = pd.to_datetime(data2_sample['Date mutation'], format='%d/%m/%Y')\n",
        "\n",
        "# Ajoute la colonne 'Mois'\n",
        "data_sample['Mois'] = data_sample['Date mutation'].dt.month\n",
        "data2_sample['Mois'] = data2_sample['Date mutation'].dt.month\n",
        "\n",
        "# Ajoute une colonne 'Année'\n",
        "data_sample['Année'] = data_sample['Date mutation'].dt.year\n",
        "data2_sample['Année'] = data2_sample['Date mutation'].dt.year\n",
        "\n",
        "# Concaténe les deux ensembles de données\n",
        "donnees_concatenees = pd.concat([data_sample, data2_sample])\n",
        "\n",
        "# Calcule l'IQR pour 'Surface reelle bati'\n",
        "Q1 = donnees_concatenees['Surface reelle bati'].quantile(0.25)\n",
        "Q3 = donnees_concatenees['Surface reelle bati'].quantile(0.75)\n",
        "IQR = Q3 - Q1\n",
        "\n",
        "# Définit les limites pour les valeurs aberrantes\n",
        "limite_inferieure = Q1 - 1.5 * IQR\n",
        "limite_superieure = Q3 + 1.5 * IQR\n",
        "\n",
        "# Filtre les données\n",
        "donnees_filtrees = donnees_concatenees[(donnees_concatenees['Surface reelle bati'] >= limite_inferieure) & (donnees_concatenees['Surface reelle bati'] <= limite_superieure)]\n",
        "\n",
        "# Crée la boîte à moustaches\n",
        "plt.figure(figsize=(12,6))\n",
        "sns.boxplot(x='Mois', y='Surface reelle bati', hue='Année', data=donnees_filtrees)\n",
        "plt.title('Boîte à moustaches de \"Surface reelle bati\" par mois (valeurs aberrantes supprimées), superposition des années')\n",
        "plt.show()\n"
      ]
    },
    {
      "cell_type": "code",
      "execution_count": null,
      "metadata": {},
      "outputs": [],
      "source": [
        "# On convertit 'Date mutation' en datetime\n",
        "data_sample['Date mutation'] = pd.to_datetime(data_sample['Date mutation'], format='%d/%m/%Y')\n",
        "data2_sample['Date mutation'] = pd.to_datetime(data2_sample['Date mutation'], format='%d/%m/%Y')\n",
        "\n",
        "# On ajoute la colonne 'Mois'\n",
        "data_sample['Mois'] = data_sample['Date mutation'].dt.month\n",
        "data2_sample['Mois'] = data2_sample['Date mutation'].dt.month\n",
        "\n",
        "# On calcule l'IQR pour 'Nombre de lots' dans les deux jeux de données\n",
        "Q1_1 = data_sample['Nombre de lots'].quantile(0.25)\n",
        "Q3_1 = data_sample['Nombre de lots'].quantile(0.75)\n",
        "IQR_1 = Q3_1 - Q1_1\n",
        "\n",
        "Q1_2 = data2_sample['Nombre de lots'].quantile(0.25)\n",
        "Q3_2 = data2_sample['Nombre de lots'].quantile(0.75)\n",
        "IQR_2 = Q3_2 - Q1_2\n",
        "\n",
        "# On définit les limites pour les valeurs aberrantes dans les deux jeux de données\n",
        "limite_inferieure_1 = Q1_1 - 1.5 * IQR_1\n",
        "limite_superieure_1 = Q3_1 + 1.5 * IQR_1\n",
        "\n",
        "limite_inferieure_2 = Q1_2 - 1.5 * IQR_2\n",
        "limite_superieure_2 = Q3_2 + 1.5 * IQR_2\n",
        "\n",
        "# On filtre les données\n",
        "donnees_filtrees_1 = data_sample[(data_sample['Nombre de lots'] >= limite_inferieure_1) & (data_sample['Nombre de lots'] <= limite_superieure_1)]\n",
        "donnees_filtrees_2 = data2_sample[(data2_sample['Nombre de lots'] >= limite_inferieure_2) & (data2_sample['Nombre de lots'] <= limite_superieure_2)]\n",
        "\n",
        "# On crée les boîtes à moustaches\n",
        "plt.figure(figsize=(12,6))\n",
        "\n",
        "# Boîte à moustaches pour la première année\n",
        "plt.subplot(1, 2, 1)\n",
        "sns.boxplot(x='Mois', y='Nombre de lots', data=donnees_filtrees_1)\n",
        "plt.title('Boîte à moustaches de \"Nombre de lots\" par mois (valeurs aberrantes supprimées) - Année 1')\n",
        "\n",
        "# Boîte à moustaches pour la deuxième année\n",
        "plt.subplot(1, 2, 2)\n",
        "sns.boxplot(x='Mois', y='Nombre de lots', data=donnees_filtrees_2)\n",
        "plt.title('Boîte à moustaches de \"Nombre de lots\" par mois (valeurs aberrantes supprimées) - Année 2')\n",
        "\n",
        "plt.tight_layout()\n",
        "plt.show()\n",
        "\n",
        "# Convertit 'Date mutation' en datetime\n",
        "data_sample['Date mutation'] = pd.to_datetime(data_sample['Date mutation'], format='%d/%m/%Y')\n",
        "data2_sample['Date mutation'] = pd.to_datetime(data2_sample['Date mutation'], format='%d/%m/%Y')\n",
        "\n",
        "# Ajoute la colonne 'Mois'\n",
        "data_sample['Mois'] = data_sample['Date mutation'].dt.month\n",
        "data2_sample['Mois'] = data2_sample['Date mutation'].dt.month\n",
        "\n",
        "# Ajoute une colonne 'Année'\n",
        "data_sample['Année'] = data_sample['Date mutation'].dt.year\n",
        "data2_sample['Année'] = data2_sample['Date mutation'].dt.year\n",
        "\n",
        "# Concaténe les deux ensembles de données\n",
        "donnees_concatenees = pd.concat([data_sample, data2_sample])\n",
        "\n",
        "# Calcule l'IQR pour 'Nombre de lots'\n",
        "Q1 = donnees_concatenees['Nombre de lots'].quantile(0.25)\n",
        "Q3 = donnees_concatenees['Nombre de lots'].quantile(0.75)\n",
        "IQR = Q3 - Q1\n",
        "\n",
        "# Définit les limites pour les valeurs aberrantes\n",
        "limite_inferieure = Q1 - 1.5 * IQR\n",
        "limite_superieure = Q3 + 1.5 * IQR\n",
        "\n",
        "# Filtre les données\n",
        "donnees_filtrees = donnees_concatenees[(donnees_concatenees['Nombre de lots'] >= limite_inferieure) & (donnees_concatenees['Nombre de lots'] <= limite_superieure)]\n",
        "\n",
        "# Crée la boîte à moustaches\n",
        "plt.figure(figsize=(12,6))\n",
        "sns.boxplot(x='Mois', y='Nombre de lots', hue='Année', data=donnees_filtrees)\n",
        "plt.title('Boîte à moustaches de \"Nombre de lots\" par mois (valeurs aberrantes supprimées), superposition des années')\n",
        "plt.show()\n"
      ]
    },
    {
      "cell_type": "code",
      "execution_count": null,
      "metadata": {},
      "outputs": [],
      "source": [
        "# On convertit 'Date mutation' en datetime\n",
        "data_sample['Date mutation'] = pd.to_datetime(data_sample['Date mutation'], format='%d/%m/%Y')\n",
        "data2_sample['Date mutation'] = pd.to_datetime(data2_sample['Date mutation'], format='%d/%m/%Y')\n",
        "\n",
        "# On ajoute la colonne 'Mois'\n",
        "data_sample['Month'] = data_sample['Date mutation'].dt.month\n",
        "data2_sample['Month'] = data2_sample['Date mutation'].dt.month\n",
        "\n",
        "# On calcule l'IQR pour 'Nombre de lots' dans les deux jeux de données\n",
        "Q1_1 = data_sample['Surface terrain'].quantile(0.25)\n",
        "Q3_1 = data_sample['Surface terrain'].quantile(0.75)\n",
        "IQR_1 = Q3_1 - Q1_1\n",
        "\n",
        "Q1_2 = data2_sample['Surface terrain'].quantile(0.25)\n",
        "Q3_2 = data2_sample['Surface terrain'].quantile(0.75)\n",
        "IQR_2 = Q3_2 - Q1_2\n",
        "\n",
        "# On définit les limites pour les valeurs aberrantes dans les deux jeux de données\n",
        "lower_limit_1 = Q1_1 - 1.5 * IQR_1\n",
        "upper_limit_1 = Q3_1 + 1.5 * IQR_1\n",
        "\n",
        "lower_limit_2 = Q1_2 - 1.5 * IQR_2\n",
        "upper_limit_2 = Q3_2 + 1.5 * IQR_2\n",
        "\n",
        "# On filtre les données\n",
        "filtered_data_1 = data_sample[(data_sample['Surface terrain'] >= lower_limit_1) & (data_sample['Surface terrain'] <= upper_limit_1)]\n",
        "filtered_data_2 = data2_sample[(data2_sample['Surface terrain'] >= lower_limit_2) & (data2_sample['Surface terrain'] <= upper_limit_2)]\n",
        "\n",
        "# On crée les boîtes à moustaches\n",
        "plt.figure(figsize=(12,6))\n",
        "\n",
        "# Boîte à moustaches pour la prémière année\n",
        "plt.subplot(1, 2, 1)\n",
        "sns.boxplot(x='Month', y='Surface terrain', data=filtered_data_1)\n",
        "plt.title('Boxplot of \"Surface terrain\" by Month (outliers removed) - Year 1')\n",
        "\n",
        "# Boîte à moustaches pour la deuxième année\n",
        "plt.subplot(1, 2, 2)\n",
        "sns.boxplot(x='Month', y='Surface terrain', data=filtered_data_2)\n",
        "plt.title('Boxplot of \"Surface terrain\" by Month (outliers removed) - Year 2')\n",
        "\n",
        "plt.tight_layout()\n",
        "plt.show()\n",
        "\n",
        "# Convertit 'Date mutation' en datetime\n",
        "data_sample['Date mutation'] = pd.to_datetime(data_sample['Date mutation'], format='%d/%m/%Y')\n",
        "data2_sample['Date mutation'] = pd.to_datetime(data2_sample['Date mutation'], format='%d/%m/%Y')\n",
        "\n",
        "# Ajoute la colonne 'Mois'\n",
        "data_sample['Mois'] = data_sample['Date mutation'].dt.month\n",
        "data2_sample['Mois'] = data2_sample['Date mutation'].dt.month\n",
        "\n",
        "# Ajoute une colonne 'Année'\n",
        "data_sample['Année'] = data_sample['Date mutation'].dt.year\n",
        "data2_sample['Année'] = data2_sample['Date mutation'].dt.year\n",
        "\n",
        "# Concaténe les deux ensembles de données\n",
        "donnees_concatenees = pd.concat([data_sample, data2_sample])\n",
        "\n",
        "# Calcule l'IQR pour 'Surface terrain'\n",
        "Q1 = donnees_concatenees['Surface terrain'].quantile(0.25)\n",
        "Q3 = donnees_concatenees['Surface terrain'].quantile(0.75)\n",
        "IQR = Q3 - Q1\n",
        "\n",
        "# Définit les limites pour les valeurs aberrantes\n",
        "limite_inferieure = Q1 - 1.5 * IQR\n",
        "limite_superieure = Q3 + 1.5 * IQR\n",
        "\n",
        "# Filtre les données\n",
        "donnees_filtrees = donnees_concatenees[(donnees_concatenees['Surface terrain'] >= limite_inferieure) & (donnees_concatenees['Surface terrain'] <= limite_superieure)]\n",
        "\n",
        "# Crée la boîte à moustaches\n",
        "plt.figure(figsize=(12,6))\n",
        "sns.boxplot(x='Mois', y='Surface terrain', hue='Année', data=donnees_filtrees)\n",
        "plt.title('Boîte à moustaches de \"Surface terrain\" par mois (valeurs aberrantes supprimées), superposition des années')\n",
        "plt.show()\n",
        "\n"
      ]
    }
  ],
  "metadata": {
    "accelerator": "GPU",
    "colab": {
      "provenance": []
    },
    "gpuClass": "standard",
    "kernelspec": {
      "display_name": "Python 3.9.7 ('base')",
      "language": "python",
      "name": "python3"
    },
    "language_info": {
      "codemirror_mode": {
        "name": "ipython",
        "version": 3
      },
      "file_extension": ".py",
      "mimetype": "text/x-python",
      "name": "python",
      "nbconvert_exporter": "python",
      "pygments_lexer": "ipython3",
      "version": "3.9.7"
    },
    "vscode": {
      "interpreter": {
        "hash": "cd4a8fedb8ea00a472fd5e8faa4f507bf2e32ffa96e44f275d4c65af483d39c8"
      }
    }
  },
  "nbformat": 4,
  "nbformat_minor": 0
}
